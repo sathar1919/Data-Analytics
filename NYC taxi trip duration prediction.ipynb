{
 "cells": [
  {
   "cell_type": "code",
   "execution_count": 1,
   "metadata": {},
   "outputs": [],
   "source": [
    "# importing required libraries\n",
    "import pandas as pd\n",
    "import numpy as np\n",
    "from sklearn.model_selection import train_test_split\n",
    "from sklearn.linear_model import LinearRegression\n",
    "from sklearn.metrics import mean_squared_error"
   ]
  },
  {
   "cell_type": "code",
   "execution_count": 2,
   "metadata": {},
   "outputs": [],
   "source": [
    "# reading the data\n",
    "data = pd.read_csv('nyc_taxi_trip_duration.csv')"
   ]
  },
  {
   "cell_type": "code",
   "execution_count": 3,
   "metadata": {},
   "outputs": [
    {
     "data": {
      "text/html": [
       "<div>\n",
       "<style scoped>\n",
       "    .dataframe tbody tr th:only-of-type {\n",
       "        vertical-align: middle;\n",
       "    }\n",
       "\n",
       "    .dataframe tbody tr th {\n",
       "        vertical-align: top;\n",
       "    }\n",
       "\n",
       "    .dataframe thead th {\n",
       "        text-align: right;\n",
       "    }\n",
       "</style>\n",
       "<table border=\"1\" class=\"dataframe\">\n",
       "  <thead>\n",
       "    <tr style=\"text-align: right;\">\n",
       "      <th></th>\n",
       "      <th>id</th>\n",
       "      <th>vendor_id</th>\n",
       "      <th>pickup_datetime</th>\n",
       "      <th>dropoff_datetime</th>\n",
       "      <th>passenger_count</th>\n",
       "      <th>pickup_longitude</th>\n",
       "      <th>pickup_latitude</th>\n",
       "      <th>dropoff_longitude</th>\n",
       "      <th>dropoff_latitude</th>\n",
       "      <th>store_and_fwd_flag</th>\n",
       "      <th>trip_duration</th>\n",
       "    </tr>\n",
       "  </thead>\n",
       "  <tbody>\n",
       "    <tr>\n",
       "      <th>0</th>\n",
       "      <td>id1080784</td>\n",
       "      <td>2</td>\n",
       "      <td>2016-02-29 16:40:21</td>\n",
       "      <td>2016-02-29 16:47:01</td>\n",
       "      <td>1</td>\n",
       "      <td>-73.953918</td>\n",
       "      <td>40.778873</td>\n",
       "      <td>-73.963875</td>\n",
       "      <td>40.771164</td>\n",
       "      <td>N</td>\n",
       "      <td>400</td>\n",
       "    </tr>\n",
       "    <tr>\n",
       "      <th>1</th>\n",
       "      <td>id0889885</td>\n",
       "      <td>1</td>\n",
       "      <td>2016-03-11 23:35:37</td>\n",
       "      <td>2016-03-11 23:53:57</td>\n",
       "      <td>2</td>\n",
       "      <td>-73.988312</td>\n",
       "      <td>40.731743</td>\n",
       "      <td>-73.994751</td>\n",
       "      <td>40.694931</td>\n",
       "      <td>N</td>\n",
       "      <td>1100</td>\n",
       "    </tr>\n",
       "    <tr>\n",
       "      <th>2</th>\n",
       "      <td>id0857912</td>\n",
       "      <td>2</td>\n",
       "      <td>2016-02-21 17:59:33</td>\n",
       "      <td>2016-02-21 18:26:48</td>\n",
       "      <td>2</td>\n",
       "      <td>-73.997314</td>\n",
       "      <td>40.721458</td>\n",
       "      <td>-73.948029</td>\n",
       "      <td>40.774918</td>\n",
       "      <td>N</td>\n",
       "      <td>1635</td>\n",
       "    </tr>\n",
       "    <tr>\n",
       "      <th>3</th>\n",
       "      <td>id3744273</td>\n",
       "      <td>2</td>\n",
       "      <td>2016-01-05 09:44:31</td>\n",
       "      <td>2016-01-05 10:03:32</td>\n",
       "      <td>6</td>\n",
       "      <td>-73.961670</td>\n",
       "      <td>40.759720</td>\n",
       "      <td>-73.956779</td>\n",
       "      <td>40.780628</td>\n",
       "      <td>N</td>\n",
       "      <td>1141</td>\n",
       "    </tr>\n",
       "    <tr>\n",
       "      <th>4</th>\n",
       "      <td>id0232939</td>\n",
       "      <td>1</td>\n",
       "      <td>2016-02-17 06:42:23</td>\n",
       "      <td>2016-02-17 06:56:31</td>\n",
       "      <td>1</td>\n",
       "      <td>-74.017120</td>\n",
       "      <td>40.708469</td>\n",
       "      <td>-73.988182</td>\n",
       "      <td>40.740631</td>\n",
       "      <td>N</td>\n",
       "      <td>848</td>\n",
       "    </tr>\n",
       "  </tbody>\n",
       "</table>\n",
       "</div>"
      ],
      "text/plain": [
       "          id  vendor_id      pickup_datetime     dropoff_datetime  \\\n",
       "0  id1080784          2  2016-02-29 16:40:21  2016-02-29 16:47:01   \n",
       "1  id0889885          1  2016-03-11 23:35:37  2016-03-11 23:53:57   \n",
       "2  id0857912          2  2016-02-21 17:59:33  2016-02-21 18:26:48   \n",
       "3  id3744273          2  2016-01-05 09:44:31  2016-01-05 10:03:32   \n",
       "4  id0232939          1  2016-02-17 06:42:23  2016-02-17 06:56:31   \n",
       "\n",
       "   passenger_count  pickup_longitude  pickup_latitude  dropoff_longitude  \\\n",
       "0                1        -73.953918        40.778873         -73.963875   \n",
       "1                2        -73.988312        40.731743         -73.994751   \n",
       "2                2        -73.997314        40.721458         -73.948029   \n",
       "3                6        -73.961670        40.759720         -73.956779   \n",
       "4                1        -74.017120        40.708469         -73.988182   \n",
       "\n",
       "   dropoff_latitude store_and_fwd_flag  trip_duration  \n",
       "0         40.771164                  N            400  \n",
       "1         40.694931                  N           1100  \n",
       "2         40.774918                  N           1635  \n",
       "3         40.780628                  N           1141  \n",
       "4         40.740631                  N            848  "
      ]
     },
     "execution_count": 3,
     "metadata": {},
     "output_type": "execute_result"
    }
   ],
   "source": [
    "# first five rows of the data\n",
    "data.head()"
   ]
  },
  {
   "cell_type": "code",
   "execution_count": 4,
   "metadata": {},
   "outputs": [
    {
     "data": {
      "text/plain": [
       "Index(['id', 'vendor_id', 'pickup_datetime', 'dropoff_datetime',\n",
       "       'passenger_count', 'pickup_longitude', 'pickup_latitude',\n",
       "       'dropoff_longitude', 'dropoff_latitude', 'store_and_fwd_flag',\n",
       "       'trip_duration'],\n",
       "      dtype='object')"
      ]
     },
     "execution_count": 4,
     "metadata": {},
     "output_type": "execute_result"
    }
   ],
   "source": [
    "# columns in the dataset\n",
    "data.columns"
   ]
  },
  {
   "cell_type": "markdown",
   "metadata": {},
   "source": [
    "## Description of the variables\n",
    "\n",
    "\n",
    "<b>id</b> : a unique identifier for each trip. This is a <b>nominal</b> data column.\n",
    "\n",
    "<b>vendor_id</b> :  a code indicating the provider associated with the trip record.This is a <b>nominal</b> data column.\n",
    "\n",
    "<b>pickup_datetime</b> : the date and the time when the ride started.\n",
    "\n",
    "<b>dropoff_datetime</b> : the date and time when the ride ended\n",
    "\n",
    "<b>passenger_count</b> : the number of passengers in the vehicle (driver entered value)\n",
    "\n",
    "<b>pickup_longitude</b> : date and time when the meter was engaged\n",
    "\n",
    "<b>pickup_latitude</b> : date and time when the meter was disengaged\n",
    "\n",
    "<b>dropoff_longitude</b> : the longitude where the meter was disengaged\n",
    "\n",
    "<b>dropoff_latitude</b> : the latitude where the meter was disengaged\n",
    "\n",
    "<b>store_and_fwd_flag</b> : This flag indicates whether the trip record was held in vehicle memory before sending to the vendor because the vehicle did not have a connection to the server (Y=store and forward; N=not a store and forward trip).This column is categorical\n",
    "\n",
    "<b>trip_duration</b> :  (target) duration of the trip in seconds"
   ]
  },
  {
   "cell_type": "code",
   "execution_count": 5,
   "metadata": {},
   "outputs": [
    {
     "data": {
      "text/plain": [
       "(729322, 11)"
      ]
     },
     "execution_count": 5,
     "metadata": {},
     "output_type": "execute_result"
    }
   ],
   "source": [
    "# shape of the data\n",
    "data.shape"
   ]
  },
  {
   "cell_type": "code",
   "execution_count": 6,
   "metadata": {},
   "outputs": [
    {
     "data": {
      "text/html": [
       "<div>\n",
       "<style scoped>\n",
       "    .dataframe tbody tr th:only-of-type {\n",
       "        vertical-align: middle;\n",
       "    }\n",
       "\n",
       "    .dataframe tbody tr th {\n",
       "        vertical-align: top;\n",
       "    }\n",
       "\n",
       "    .dataframe thead th {\n",
       "        text-align: right;\n",
       "    }\n",
       "</style>\n",
       "<table border=\"1\" class=\"dataframe\">\n",
       "  <thead>\n",
       "    <tr style=\"text-align: right;\">\n",
       "      <th></th>\n",
       "      <th>vendor_id</th>\n",
       "      <th>passenger_count</th>\n",
       "      <th>pickup_longitude</th>\n",
       "      <th>pickup_latitude</th>\n",
       "      <th>dropoff_longitude</th>\n",
       "      <th>dropoff_latitude</th>\n",
       "      <th>trip_duration</th>\n",
       "    </tr>\n",
       "  </thead>\n",
       "  <tbody>\n",
       "    <tr>\n",
       "      <th>count</th>\n",
       "      <td>729322.000000</td>\n",
       "      <td>729322.000000</td>\n",
       "      <td>729322.000000</td>\n",
       "      <td>729322.000000</td>\n",
       "      <td>729322.000000</td>\n",
       "      <td>729322.000000</td>\n",
       "      <td>7.293220e+05</td>\n",
       "    </tr>\n",
       "    <tr>\n",
       "      <th>mean</th>\n",
       "      <td>1.535403</td>\n",
       "      <td>1.662055</td>\n",
       "      <td>-73.973513</td>\n",
       "      <td>40.750919</td>\n",
       "      <td>-73.973422</td>\n",
       "      <td>40.751775</td>\n",
       "      <td>9.522291e+02</td>\n",
       "    </tr>\n",
       "    <tr>\n",
       "      <th>std</th>\n",
       "      <td>0.498745</td>\n",
       "      <td>1.312446</td>\n",
       "      <td>0.069754</td>\n",
       "      <td>0.033594</td>\n",
       "      <td>0.069588</td>\n",
       "      <td>0.036037</td>\n",
       "      <td>3.864626e+03</td>\n",
       "    </tr>\n",
       "    <tr>\n",
       "      <th>min</th>\n",
       "      <td>1.000000</td>\n",
       "      <td>0.000000</td>\n",
       "      <td>-121.933342</td>\n",
       "      <td>34.712234</td>\n",
       "      <td>-121.933304</td>\n",
       "      <td>32.181141</td>\n",
       "      <td>1.000000e+00</td>\n",
       "    </tr>\n",
       "    <tr>\n",
       "      <th>25%</th>\n",
       "      <td>1.000000</td>\n",
       "      <td>1.000000</td>\n",
       "      <td>-73.991859</td>\n",
       "      <td>40.737335</td>\n",
       "      <td>-73.991318</td>\n",
       "      <td>40.735931</td>\n",
       "      <td>3.970000e+02</td>\n",
       "    </tr>\n",
       "    <tr>\n",
       "      <th>50%</th>\n",
       "      <td>2.000000</td>\n",
       "      <td>1.000000</td>\n",
       "      <td>-73.981758</td>\n",
       "      <td>40.754070</td>\n",
       "      <td>-73.979759</td>\n",
       "      <td>40.754509</td>\n",
       "      <td>6.630000e+02</td>\n",
       "    </tr>\n",
       "    <tr>\n",
       "      <th>75%</th>\n",
       "      <td>2.000000</td>\n",
       "      <td>2.000000</td>\n",
       "      <td>-73.967361</td>\n",
       "      <td>40.768314</td>\n",
       "      <td>-73.963036</td>\n",
       "      <td>40.769741</td>\n",
       "      <td>1.075000e+03</td>\n",
       "    </tr>\n",
       "    <tr>\n",
       "      <th>max</th>\n",
       "      <td>2.000000</td>\n",
       "      <td>9.000000</td>\n",
       "      <td>-65.897385</td>\n",
       "      <td>51.881084</td>\n",
       "      <td>-65.897385</td>\n",
       "      <td>43.921028</td>\n",
       "      <td>1.939736e+06</td>\n",
       "    </tr>\n",
       "  </tbody>\n",
       "</table>\n",
       "</div>"
      ],
      "text/plain": [
       "           vendor_id  passenger_count  pickup_longitude  pickup_latitude  \\\n",
       "count  729322.000000    729322.000000     729322.000000    729322.000000   \n",
       "mean        1.535403         1.662055        -73.973513        40.750919   \n",
       "std         0.498745         1.312446          0.069754         0.033594   \n",
       "min         1.000000         0.000000       -121.933342        34.712234   \n",
       "25%         1.000000         1.000000        -73.991859        40.737335   \n",
       "50%         2.000000         1.000000        -73.981758        40.754070   \n",
       "75%         2.000000         2.000000        -73.967361        40.768314   \n",
       "max         2.000000         9.000000        -65.897385        51.881084   \n",
       "\n",
       "       dropoff_longitude  dropoff_latitude  trip_duration  \n",
       "count      729322.000000     729322.000000   7.293220e+05  \n",
       "mean          -73.973422         40.751775   9.522291e+02  \n",
       "std             0.069588          0.036037   3.864626e+03  \n",
       "min          -121.933304         32.181141   1.000000e+00  \n",
       "25%           -73.991318         40.735931   3.970000e+02  \n",
       "50%           -73.979759         40.754509   6.630000e+02  \n",
       "75%           -73.963036         40.769741   1.075000e+03  \n",
       "max           -65.897385         43.921028   1.939736e+06  "
      ]
     },
     "execution_count": 6,
     "metadata": {},
     "output_type": "execute_result"
    }
   ],
   "source": [
    "# statistics of the numerical features in the data\n",
    "data.describe()"
   ]
  },
  {
   "cell_type": "code",
   "execution_count": 7,
   "metadata": {},
   "outputs": [
    {
     "data": {
      "text/plain": [
       "id                     object\n",
       "vendor_id               int64\n",
       "pickup_datetime        object\n",
       "dropoff_datetime       object\n",
       "passenger_count         int64\n",
       "pickup_longitude      float64\n",
       "pickup_latitude       float64\n",
       "dropoff_longitude     float64\n",
       "dropoff_latitude      float64\n",
       "store_and_fwd_flag     object\n",
       "trip_duration           int64\n",
       "dtype: object"
      ]
     },
     "execution_count": 7,
     "metadata": {},
     "output_type": "execute_result"
    }
   ],
   "source": [
    "# overview of type of variables\n",
    "data.dtypes"
   ]
  },
  {
   "cell_type": "code",
   "execution_count": 7,
   "metadata": {},
   "outputs": [
    {
     "data": {
      "text/plain": [
       "id                    0\n",
       "vendor_id             0\n",
       "pickup_datetime       0\n",
       "dropoff_datetime      0\n",
       "passenger_count       0\n",
       "pickup_longitude      0\n",
       "pickup_latitude       0\n",
       "dropoff_longitude     0\n",
       "dropoff_latitude      0\n",
       "store_and_fwd_flag    0\n",
       "trip_duration         0\n",
       "dtype: int64"
      ]
     },
     "execution_count": 7,
     "metadata": {},
     "output_type": "execute_result"
    }
   ],
   "source": [
    "# checking the missing values in the dataset\n",
    "data.isnull().sum()"
   ]
  },
  {
   "cell_type": "code",
   "execution_count": 9,
   "metadata": {},
   "outputs": [
    {
     "name": "stdout",
     "output_type": "stream",
     "text": [
      "Longest 5 trip duration: \n",
      " 21813     1939736\n",
      "259437      86391\n",
      "119185      86387\n",
      "177225      86378\n",
      "496391      86377\n",
      "Name: trip_duration, dtype: int64 \n",
      "\n",
      "The the number of rows with 0 as their trip duration values is 13\n"
     ]
    }
   ],
   "source": [
    "# looking at the longest trips\n",
    "print('Longest 5 trip duration: \\n {} '.format(data['trip_duration'].nlargest(5)))\n",
    "print('\\nThe the number of rows with 0 as their trip duration values is {}'.format(len(data[data['trip_duration']==1 ])))"
   ]
  },
  {
   "cell_type": "code",
   "execution_count": 9,
   "metadata": {},
   "outputs": [],
   "source": [
    "# There is 1 record with extremely large value of 1939736 and 13 with 0 seconds each. We can drop these rows. "
   ]
  },
  {
   "cell_type": "code",
   "execution_count": 10,
   "metadata": {},
   "outputs": [],
   "source": [
    "# dropping the outliers\n",
    "data=data[data.trip_duration!=data.trip_duration.max()]\n",
    "data=data[data.trip_duration!=data.trip_duration.min()]"
   ]
  },
  {
   "cell_type": "code",
   "execution_count": 11,
   "metadata": {},
   "outputs": [],
   "source": [
    "# converting the date time variables to datatime format\n",
    "data['pickup_datetime'] = pd.to_datetime(data['pickup_datetime'])\n",
    "data['dropoff_datetime'] = pd.to_datetime(data['dropoff_datetime'])"
   ]
  },
  {
   "cell_type": "code",
   "execution_count": 12,
   "metadata": {},
   "outputs": [],
   "source": [
    "# creating datetime features\n",
    "data['pickup_day']=data['pickup_datetime'].dt.day_name()\n",
    "data['dropoff_day']=data['dropoff_datetime'].dt.day_name()\n",
    "data['pickup_month']=data['pickup_datetime'].dt.month\n",
    "data['dropoff_month']=data['dropoff_datetime'].dt.month"
   ]
  },
  {
   "cell_type": "code",
   "execution_count": 13,
   "metadata": {},
   "outputs": [
    {
     "data": {
      "text/plain": [
       "Index(['id', 'vendor_id', 'pickup_datetime', 'dropoff_datetime',\n",
       "       'passenger_count', 'pickup_longitude', 'pickup_latitude',\n",
       "       'dropoff_longitude', 'dropoff_latitude', 'store_and_fwd_flag',\n",
       "       'trip_duration', 'pickup_day', 'dropoff_day', 'pickup_month',\n",
       "       'dropoff_month'],\n",
       "      dtype='object')"
      ]
     },
     "execution_count": 13,
     "metadata": {},
     "output_type": "execute_result"
    }
   ],
   "source": [
    "# columns of the data\n",
    "data.columns"
   ]
  },
  {
   "cell_type": "code",
   "execution_count": 19,
   "metadata": {},
   "outputs": [
    {
     "name": "stderr",
     "output_type": "stream",
     "text": [
      "C:\\Users\\satha\\AppData\\Local\\Temp\\ipykernel_2880\\4225863575.py:2: FutureWarning: In a future version of pandas all arguments of DataFrame.dropna will be keyword-only.\n",
      "  data = data.dropna(['id', 'vendor_id', 'pickup_datetime', 'dropoff_datetime', 'pickup_longitude', 'pickup_latitude',\n"
     ]
    },
    {
     "ename": "TypeError",
     "evalue": "DataFrame.dropna() got multiple values for argument 'axis'",
     "output_type": "error",
     "traceback": [
      "\u001b[1;31m---------------------------------------------------------------------------\u001b[0m",
      "\u001b[1;31mTypeError\u001b[0m                                 Traceback (most recent call last)",
      "Cell \u001b[1;32mIn[19], line 2\u001b[0m\n\u001b[0;32m      1\u001b[0m \u001b[38;5;66;03m# dropping the variables which might not be helpful to predict the trip duration\u001b[39;00m\n\u001b[1;32m----> 2\u001b[0m data \u001b[38;5;241m=\u001b[39m \u001b[43mdata\u001b[49m\u001b[38;5;241;43m.\u001b[39;49m\u001b[43mdropna\u001b[49m\u001b[43m(\u001b[49m\u001b[43m[\u001b[49m\u001b[38;5;124;43m'\u001b[39;49m\u001b[38;5;124;43mid\u001b[39;49m\u001b[38;5;124;43m'\u001b[39;49m\u001b[43m,\u001b[49m\u001b[43m \u001b[49m\u001b[38;5;124;43m'\u001b[39;49m\u001b[38;5;124;43mvendor_id\u001b[39;49m\u001b[38;5;124;43m'\u001b[39;49m\u001b[43m,\u001b[49m\u001b[43m \u001b[49m\u001b[38;5;124;43m'\u001b[39;49m\u001b[38;5;124;43mpickup_datetime\u001b[39;49m\u001b[38;5;124;43m'\u001b[39;49m\u001b[43m,\u001b[49m\u001b[43m \u001b[49m\u001b[38;5;124;43m'\u001b[39;49m\u001b[38;5;124;43mdropoff_datetime\u001b[39;49m\u001b[38;5;124;43m'\u001b[39;49m\u001b[43m,\u001b[49m\u001b[43m \u001b[49m\u001b[38;5;124;43m'\u001b[39;49m\u001b[38;5;124;43mpickup_longitude\u001b[39;49m\u001b[38;5;124;43m'\u001b[39;49m\u001b[43m,\u001b[49m\u001b[43m \u001b[49m\u001b[38;5;124;43m'\u001b[39;49m\u001b[38;5;124;43mpickup_latitude\u001b[39;49m\u001b[38;5;124;43m'\u001b[39;49m\u001b[43m,\u001b[49m\n\u001b[0;32m      3\u001b[0m \u001b[43m       \u001b[49m\u001b[38;5;124;43m'\u001b[39;49m\u001b[38;5;124;43mdropoff_longitude\u001b[39;49m\u001b[38;5;124;43m'\u001b[39;49m\u001b[43m,\u001b[49m\u001b[43m \u001b[49m\u001b[38;5;124;43m'\u001b[39;49m\u001b[38;5;124;43mdropoff_latitude\u001b[39;49m\u001b[38;5;124;43m'\u001b[39;49m\u001b[43m]\u001b[49m\u001b[43m,\u001b[49m\u001b[43m \u001b[49m\u001b[43maxis\u001b[49m\u001b[38;5;241;43m=\u001b[39;49m\u001b[38;5;241;43m1\u001b[39;49m\u001b[43m)\u001b[49m\n",
      "File \u001b[1;32mC:\\ProgramData\\anaconda3\\lib\\site-packages\\pandas\\util\\_decorators.py:331\u001b[0m, in \u001b[0;36mdeprecate_nonkeyword_arguments.<locals>.decorate.<locals>.wrapper\u001b[1;34m(*args, **kwargs)\u001b[0m\n\u001b[0;32m    325\u001b[0m \u001b[38;5;28;01mif\u001b[39;00m \u001b[38;5;28mlen\u001b[39m(args) \u001b[38;5;241m>\u001b[39m num_allow_args:\n\u001b[0;32m    326\u001b[0m     warnings\u001b[38;5;241m.\u001b[39mwarn(\n\u001b[0;32m    327\u001b[0m         msg\u001b[38;5;241m.\u001b[39mformat(arguments\u001b[38;5;241m=\u001b[39m_format_argument_list(allow_args)),\n\u001b[0;32m    328\u001b[0m         \u001b[38;5;167;01mFutureWarning\u001b[39;00m,\n\u001b[0;32m    329\u001b[0m         stacklevel\u001b[38;5;241m=\u001b[39mfind_stack_level(),\n\u001b[0;32m    330\u001b[0m     )\n\u001b[1;32m--> 331\u001b[0m \u001b[38;5;28;01mreturn\u001b[39;00m func(\u001b[38;5;241m*\u001b[39margs, \u001b[38;5;241m*\u001b[39m\u001b[38;5;241m*\u001b[39mkwargs)\n",
      "\u001b[1;31mTypeError\u001b[0m: DataFrame.dropna() got multiple values for argument 'axis'"
     ]
    }
   ],
   "source": [
    "# dropping the variables which might not be helpful to predict the trip duration\n",
    "data = data.dropna(['id', 'vendor_id', 'pickup_datetime', 'dropoff_datetime', 'pickup_longitude', 'pickup_latitude',\n",
    "       'dropoff_longitude', 'dropoff_latitude'], axis=1)"
   ]
  },
  {
   "cell_type": "code",
   "execution_count": 23,
   "metadata": {},
   "outputs": [
    {
     "name": "stdout",
     "output_type": "stream",
     "text": [
      "        passenger_count  trip_duration  pickup_month  dropoff_month  \\\n",
      "0                     1            400             2              2   \n",
      "1                     2           1100             3              3   \n",
      "2                     2           1635             2              2   \n",
      "3                     6           1141             1              1   \n",
      "4                     1            848             2              2   \n",
      "...                 ...            ...           ...            ...   \n",
      "729317                2            296             5              5   \n",
      "729318                1            315             2              2   \n",
      "729319                1            673             4              4   \n",
      "729320                1            447             6              6   \n",
      "729321                4           1224             1              1   \n",
      "\n",
      "        store_and_fwd_flag_N  store_and_fwd_flag_Y  pickup_day_Friday  \\\n",
      "0                          1                     0                  0   \n",
      "1                          1                     0                  1   \n",
      "2                          1                     0                  0   \n",
      "3                          1                     0                  0   \n",
      "4                          1                     0                  0   \n",
      "...                      ...                   ...                ...   \n",
      "729317                     1                     0                  0   \n",
      "729318                     1                     0                  0   \n",
      "729319                     1                     0                  1   \n",
      "729320                     1                     0                  0   \n",
      "729321                     1                     0                  1   \n",
      "\n",
      "        pickup_day_Monday  pickup_day_Saturday  pickup_day_Sunday  \\\n",
      "0                       1                    0                  0   \n",
      "1                       0                    0                  0   \n",
      "2                       0                    0                  1   \n",
      "3                       0                    0                  0   \n",
      "4                       0                    0                  0   \n",
      "...                   ...                  ...                ...   \n",
      "729317                  0                    1                  0   \n",
      "729318                  1                    0                  0   \n",
      "729319                  0                    0                  0   \n",
      "729320                  0                    0                  1   \n",
      "729321                  0                    0                  0   \n",
      "\n",
      "        pickup_day_Thursday  pickup_day_Tuesday  pickup_day_Wednesday  \\\n",
      "0                         0                   0                     0   \n",
      "1                         0                   0                     0   \n",
      "2                         0                   0                     0   \n",
      "3                         0                   1                     0   \n",
      "4                         0                   0                     1   \n",
      "...                     ...                 ...                   ...   \n",
      "729317                    0                   0                     0   \n",
      "729318                    0                   0                     0   \n",
      "729319                    0                   0                     0   \n",
      "729320                    0                   0                     0   \n",
      "729321                    0                   0                     0   \n",
      "\n",
      "        dropoff_day_Friday  dropoff_day_Monday  dropoff_day_Saturday  \\\n",
      "0                        0                   1                     0   \n",
      "1                        1                   0                     0   \n",
      "2                        0                   0                     0   \n",
      "3                        0                   0                     0   \n",
      "4                        0                   0                     0   \n",
      "...                    ...                 ...                   ...   \n",
      "729317                   0                   0                     1   \n",
      "729318                   0                   1                     0   \n",
      "729319                   1                   0                     0   \n",
      "729320                   0                   0                     0   \n",
      "729321                   1                   0                     0   \n",
      "\n",
      "        dropoff_day_Sunday  dropoff_day_Thursday  dropoff_day_Tuesday  \\\n",
      "0                        0                     0                    0   \n",
      "1                        0                     0                    0   \n",
      "2                        1                     0                    0   \n",
      "3                        0                     0                    1   \n",
      "4                        0                     0                    0   \n",
      "...                    ...                   ...                  ...   \n",
      "729317                   0                     0                    0   \n",
      "729318                   0                     0                    0   \n",
      "729319                   0                     0                    0   \n",
      "729320                   1                     0                    0   \n",
      "729321                   0                     0                    0   \n",
      "\n",
      "        dropoff_day_Wednesday  \n",
      "0                           0  \n",
      "1                           0  \n",
      "2                           0  \n",
      "3                           0  \n",
      "4                           1  \n",
      "...                       ...  \n",
      "729317                      0  \n",
      "729318                      0  \n",
      "729319                      0  \n",
      "729320                      0  \n",
      "729321                      0  \n",
      "\n",
      "[729205 rows x 20 columns]\n",
      "(729205, 20)\n"
     ]
    }
   ],
   "source": [
    "# converting the categorical variables to numerical variables\n",
    "data = pd.get_dummies(data)\n",
    "print(data)\n",
    "print(data.shape)"
   ]
  },
  {
   "cell_type": "code",
   "execution_count": 25,
   "metadata": {},
   "outputs": [
    {
     "name": "stdout",
     "output_type": "stream",
     "text": [
      "        passenger_count  pickup_month  dropoff_month  store_and_fwd_flag_N  \\\n",
      "0                     1             2              2                     1   \n",
      "1                     2             3              3                     1   \n",
      "2                     2             2              2                     1   \n",
      "3                     6             1              1                     1   \n",
      "4                     1             2              2                     1   \n",
      "...                 ...           ...            ...                   ...   \n",
      "729317                2             5              5                     1   \n",
      "729318                1             2              2                     1   \n",
      "729319                1             4              4                     1   \n",
      "729320                1             6              6                     1   \n",
      "729321                4             1              1                     1   \n",
      "\n",
      "        store_and_fwd_flag_Y  pickup_day_Friday  pickup_day_Monday  \\\n",
      "0                          0                  0                  1   \n",
      "1                          0                  1                  0   \n",
      "2                          0                  0                  0   \n",
      "3                          0                  0                  0   \n",
      "4                          0                  0                  0   \n",
      "...                      ...                ...                ...   \n",
      "729317                     0                  0                  0   \n",
      "729318                     0                  0                  1   \n",
      "729319                     0                  1                  0   \n",
      "729320                     0                  0                  0   \n",
      "729321                     0                  1                  0   \n",
      "\n",
      "        pickup_day_Saturday  pickup_day_Sunday  pickup_day_Thursday  \\\n",
      "0                         0                  0                    0   \n",
      "1                         0                  0                    0   \n",
      "2                         0                  1                    0   \n",
      "3                         0                  0                    0   \n",
      "4                         0                  0                    0   \n",
      "...                     ...                ...                  ...   \n",
      "729317                    1                  0                    0   \n",
      "729318                    0                  0                    0   \n",
      "729319                    0                  0                    0   \n",
      "729320                    0                  1                    0   \n",
      "729321                    0                  0                    0   \n",
      "\n",
      "        pickup_day_Tuesday  pickup_day_Wednesday  dropoff_day_Friday  \\\n",
      "0                        0                     0                   0   \n",
      "1                        0                     0                   1   \n",
      "2                        0                     0                   0   \n",
      "3                        1                     0                   0   \n",
      "4                        0                     1                   0   \n",
      "...                    ...                   ...                 ...   \n",
      "729317                   0                     0                   0   \n",
      "729318                   0                     0                   0   \n",
      "729319                   0                     0                   1   \n",
      "729320                   0                     0                   0   \n",
      "729321                   0                     0                   1   \n",
      "\n",
      "        dropoff_day_Monday  dropoff_day_Saturday  dropoff_day_Sunday  \\\n",
      "0                        1                     0                   0   \n",
      "1                        0                     0                   0   \n",
      "2                        0                     0                   1   \n",
      "3                        0                     0                   0   \n",
      "4                        0                     0                   0   \n",
      "...                    ...                   ...                 ...   \n",
      "729317                   0                     1                   0   \n",
      "729318                   1                     0                   0   \n",
      "729319                   0                     0                   0   \n",
      "729320                   0                     0                   1   \n",
      "729321                   0                     0                   0   \n",
      "\n",
      "        dropoff_day_Thursday  dropoff_day_Tuesday  dropoff_day_Wednesday  \n",
      "0                          0                    0                      0  \n",
      "1                          0                    0                      0  \n",
      "2                          0                    0                      0  \n",
      "3                          0                    1                      0  \n",
      "4                          0                    0                      1  \n",
      "...                      ...                  ...                    ...  \n",
      "729317                     0                    0                      0  \n",
      "729318                     0                    0                      0  \n",
      "729319                     0                    0                      0  \n",
      "729320                     0                    0                      0  \n",
      "729321                     0                    0                      0  \n",
      "\n",
      "[729205 rows x 19 columns]\n",
      "0          400\n",
      "1         1100\n",
      "2         1635\n",
      "3         1141\n",
      "4          848\n",
      "          ... \n",
      "729317     296\n",
      "729318     315\n",
      "729319     673\n",
      "729320     447\n",
      "729321    1224\n",
      "Name: trip_duration, Length: 729205, dtype: int64\n"
     ]
    },
    {
     "name": "stderr",
     "output_type": "stream",
     "text": [
      "C:\\Users\\satha\\AppData\\Local\\Temp\\ipykernel_2880\\2863005183.py:2: FutureWarning: In a future version of pandas all arguments of DataFrame.drop except for the argument 'labels' will be keyword-only.\n",
      "  X = data.drop(['trip_duration'], 1)\n"
     ]
    }
   ],
   "source": [
    "# separating dependent and independent variables\n",
    "X = data.drop(['trip_duration'], 1)\n",
    "print(X)\n",
    "y = data['trip_duration']\n",
    "print(y)"
   ]
  },
  {
   "cell_type": "code",
   "execution_count": 27,
   "metadata": {},
   "outputs": [
    {
     "name": "stdout",
     "output_type": "stream",
     "text": [
      "        passenger_count  pickup_month  dropoff_month  store_and_fwd_flag_N  \\\n",
      "456760                2             5              5                     1   \n",
      "381734                1             3              3                     1   \n",
      "169486                2             6              6                     1   \n",
      "487051                2             5              5                     1   \n",
      "179121                1             6              6                     1   \n",
      "...                 ...           ...            ...                   ...   \n",
      "533746                1             3              3                     1   \n",
      "105610                1             3              3                     1   \n",
      "617939                1             1              1                     1   \n",
      "443778                1             1              1                     1   \n",
      "345396                1             4              4                     1   \n",
      "\n",
      "        store_and_fwd_flag_Y  pickup_day_Friday  pickup_day_Monday  \\\n",
      "456760                     0                  0                  0   \n",
      "381734                     0                  0                  1   \n",
      "169486                     0                  0                  0   \n",
      "487051                     0                  0                  0   \n",
      "179121                     0                  0                  0   \n",
      "...                      ...                ...                ...   \n",
      "533746                     0                  0                  1   \n",
      "105610                     0                  0                  0   \n",
      "617939                     0                  0                  0   \n",
      "443778                     0                  0                  1   \n",
      "345396                     0                  1                  0   \n",
      "\n",
      "        pickup_day_Saturday  pickup_day_Sunday  pickup_day_Thursday  \\\n",
      "456760                    1                  0                    0   \n",
      "381734                    0                  0                    0   \n",
      "169486                    1                  0                    0   \n",
      "487051                    0                  0                    0   \n",
      "179121                    0                  0                    1   \n",
      "...                     ...                ...                  ...   \n",
      "533746                    0                  0                    0   \n",
      "105610                    0                  0                    0   \n",
      "617939                    0                  0                    0   \n",
      "443778                    0                  0                    0   \n",
      "345396                    0                  0                    0   \n",
      "\n",
      "        pickup_day_Tuesday  pickup_day_Wednesday  dropoff_day_Friday  \\\n",
      "456760                   0                     0                   0   \n",
      "381734                   0                     0                   0   \n",
      "169486                   0                     0                   0   \n",
      "487051                   1                     0                   0   \n",
      "179121                   0                     0                   0   \n",
      "...                    ...                   ...                 ...   \n",
      "533746                   0                     0                   0   \n",
      "105610                   0                     1                   0   \n",
      "617939                   1                     0                   0   \n",
      "443778                   0                     0                   0   \n",
      "345396                   0                     0                   1   \n",
      "\n",
      "        dropoff_day_Monday  dropoff_day_Saturday  dropoff_day_Sunday  \\\n",
      "456760                   0                     1                   0   \n",
      "381734                   1                     0                   0   \n",
      "169486                   0                     1                   0   \n",
      "487051                   0                     0                   0   \n",
      "179121                   0                     0                   0   \n",
      "...                    ...                   ...                 ...   \n",
      "533746                   1                     0                   0   \n",
      "105610                   0                     0                   0   \n",
      "617939                   0                     0                   0   \n",
      "443778                   1                     0                   0   \n",
      "345396                   0                     0                   0   \n",
      "\n",
      "        dropoff_day_Thursday  dropoff_day_Tuesday  dropoff_day_Wednesday  \n",
      "456760                     0                    0                      0  \n",
      "381734                     0                    0                      0  \n",
      "169486                     0                    0                      0  \n",
      "487051                     0                    1                      0  \n",
      "179121                     1                    0                      0  \n",
      "...                      ...                  ...                    ...  \n",
      "533746                     0                    0                      0  \n",
      "105610                     0                    0                      1  \n",
      "617939                     0                    1                      0  \n",
      "443778                     0                    0                      0  \n",
      "345396                     0                    0                      0  \n",
      "\n",
      "[546903 rows x 19 columns]         passenger_count  pickup_month  dropoff_month  store_and_fwd_flag_N  \\\n",
      "396649                3             2              2                     1   \n",
      "136385                1             3              3                     1   \n",
      "345231                2             6              6                     1   \n",
      "272092                1             6              6                     1   \n",
      "641281                1             6              6                     1   \n",
      "...                 ...           ...            ...                   ...   \n",
      "157896                6             3              3                     1   \n",
      "174497                1             5              5                     1   \n",
      "100103                1             5              5                     1   \n",
      "219463                1             5              5                     1   \n",
      "665081                1             4              4                     1   \n",
      "\n",
      "        store_and_fwd_flag_Y  pickup_day_Friday  pickup_day_Monday  \\\n",
      "396649                     0                  0                  0   \n",
      "136385                     0                  0                  0   \n",
      "345231                     0                  0                  1   \n",
      "272092                     0                  1                  0   \n",
      "641281                     0                  0                  0   \n",
      "...                      ...                ...                ...   \n",
      "157896                     0                  0                  0   \n",
      "174497                     0                  0                  0   \n",
      "100103                     0                  0                  0   \n",
      "219463                     0                  0                  1   \n",
      "665081                     0                  0                  0   \n",
      "\n",
      "        pickup_day_Saturday  pickup_day_Sunday  pickup_day_Thursday  \\\n",
      "396649                    0                  0                    1   \n",
      "136385                    0                  0                    1   \n",
      "345231                    0                  0                    0   \n",
      "272092                    0                  0                    0   \n",
      "641281                    1                  0                    0   \n",
      "...                     ...                ...                  ...   \n",
      "157896                    0                  0                    1   \n",
      "174497                    0                  1                    0   \n",
      "100103                    1                  0                    0   \n",
      "219463                    0                  0                    0   \n",
      "665081                    0                  0                    1   \n",
      "\n",
      "        pickup_day_Tuesday  pickup_day_Wednesday  dropoff_day_Friday  \\\n",
      "396649                   0                     0                   0   \n",
      "136385                   0                     0                   0   \n",
      "345231                   0                     0                   0   \n",
      "272092                   0                     0                   1   \n",
      "641281                   0                     0                   0   \n",
      "...                    ...                   ...                 ...   \n",
      "157896                   0                     0                   0   \n",
      "174497                   0                     0                   0   \n",
      "100103                   0                     0                   0   \n",
      "219463                   0                     0                   0   \n",
      "665081                   0                     0                   0   \n",
      "\n",
      "        dropoff_day_Monday  dropoff_day_Saturday  dropoff_day_Sunday  \\\n",
      "396649                   0                     0                   0   \n",
      "136385                   0                     0                   0   \n",
      "345231                   1                     0                   0   \n",
      "272092                   0                     0                   0   \n",
      "641281                   0                     1                   0   \n",
      "...                    ...                   ...                 ...   \n",
      "157896                   0                     0                   0   \n",
      "174497                   0                     0                   1   \n",
      "100103                   0                     1                   0   \n",
      "219463                   1                     0                   0   \n",
      "665081                   0                     0                   0   \n",
      "\n",
      "        dropoff_day_Thursday  dropoff_day_Tuesday  dropoff_day_Wednesday  \n",
      "396649                     1                    0                      0  \n",
      "136385                     1                    0                      0  \n",
      "345231                     0                    0                      0  \n",
      "272092                     0                    0                      0  \n",
      "641281                     0                    0                      0  \n",
      "...                      ...                  ...                    ...  \n",
      "157896                     1                    0                      0  \n",
      "174497                     0                    0                      0  \n",
      "100103                     0                    0                      0  \n",
      "219463                     0                    0                      0  \n",
      "665081                     1                    0                      0  \n",
      "\n",
      "[182302 rows x 19 columns] 456760     687\n",
      "381734     690\n",
      "169486    1288\n",
      "487051     659\n",
      "179121     448\n",
      "          ... \n",
      "533746     439\n",
      "105610     542\n",
      "617939     769\n",
      "443778     835\n",
      "345396     304\n",
      "Name: trip_duration, Length: 546903, dtype: int64 396649     288\n",
      "136385     524\n",
      "345231    1781\n",
      "272092     863\n",
      "641281     198\n",
      "          ... \n",
      "157896     599\n",
      "174497     180\n",
      "100103     381\n",
      "219463     520\n",
      "665081     863\n",
      "Name: trip_duration, Length: 182302, dtype: int64\n"
     ]
    }
   ],
   "source": [
    "# creating a training and validation set\n",
    "x_train, x_valid, y_train, y_valid = train_test_split(X, y, test_size = 0.25, random_state=10)\n",
    "print(x_train,x_valid,y_train,y_valid)"
   ]
  },
  {
   "cell_type": "markdown",
   "metadata": {},
   "source": [
    "## Linear Regression Model"
   ]
  },
  {
   "cell_type": "code",
   "execution_count": 29,
   "metadata": {},
   "outputs": [],
   "source": [
    "# creating the model\n",
    "lreg = LinearRegression()"
   ]
  },
  {
   "cell_type": "code",
   "execution_count": 30,
   "metadata": {},
   "outputs": [
    {
     "data": {
      "text/html": [
       "<style>#sk-container-id-1 {color: black;background-color: white;}#sk-container-id-1 pre{padding: 0;}#sk-container-id-1 div.sk-toggleable {background-color: white;}#sk-container-id-1 label.sk-toggleable__label {cursor: pointer;display: block;width: 100%;margin-bottom: 0;padding: 0.3em;box-sizing: border-box;text-align: center;}#sk-container-id-1 label.sk-toggleable__label-arrow:before {content: \"▸\";float: left;margin-right: 0.25em;color: #696969;}#sk-container-id-1 label.sk-toggleable__label-arrow:hover:before {color: black;}#sk-container-id-1 div.sk-estimator:hover label.sk-toggleable__label-arrow:before {color: black;}#sk-container-id-1 div.sk-toggleable__content {max-height: 0;max-width: 0;overflow: hidden;text-align: left;background-color: #f0f8ff;}#sk-container-id-1 div.sk-toggleable__content pre {margin: 0.2em;color: black;border-radius: 0.25em;background-color: #f0f8ff;}#sk-container-id-1 input.sk-toggleable__control:checked~div.sk-toggleable__content {max-height: 200px;max-width: 100%;overflow: auto;}#sk-container-id-1 input.sk-toggleable__control:checked~label.sk-toggleable__label-arrow:before {content: \"▾\";}#sk-container-id-1 div.sk-estimator input.sk-toggleable__control:checked~label.sk-toggleable__label {background-color: #d4ebff;}#sk-container-id-1 div.sk-label input.sk-toggleable__control:checked~label.sk-toggleable__label {background-color: #d4ebff;}#sk-container-id-1 input.sk-hidden--visually {border: 0;clip: rect(1px 1px 1px 1px);clip: rect(1px, 1px, 1px, 1px);height: 1px;margin: -1px;overflow: hidden;padding: 0;position: absolute;width: 1px;}#sk-container-id-1 div.sk-estimator {font-family: monospace;background-color: #f0f8ff;border: 1px dotted black;border-radius: 0.25em;box-sizing: border-box;margin-bottom: 0.5em;}#sk-container-id-1 div.sk-estimator:hover {background-color: #d4ebff;}#sk-container-id-1 div.sk-parallel-item::after {content: \"\";width: 100%;border-bottom: 1px solid gray;flex-grow: 1;}#sk-container-id-1 div.sk-label:hover label.sk-toggleable__label {background-color: #d4ebff;}#sk-container-id-1 div.sk-serial::before {content: \"\";position: absolute;border-left: 1px solid gray;box-sizing: border-box;top: 0;bottom: 0;left: 50%;z-index: 0;}#sk-container-id-1 div.sk-serial {display: flex;flex-direction: column;align-items: center;background-color: white;padding-right: 0.2em;padding-left: 0.2em;position: relative;}#sk-container-id-1 div.sk-item {position: relative;z-index: 1;}#sk-container-id-1 div.sk-parallel {display: flex;align-items: stretch;justify-content: center;background-color: white;position: relative;}#sk-container-id-1 div.sk-item::before, #sk-container-id-1 div.sk-parallel-item::before {content: \"\";position: absolute;border-left: 1px solid gray;box-sizing: border-box;top: 0;bottom: 0;left: 50%;z-index: -1;}#sk-container-id-1 div.sk-parallel-item {display: flex;flex-direction: column;z-index: 1;position: relative;background-color: white;}#sk-container-id-1 div.sk-parallel-item:first-child::after {align-self: flex-end;width: 50%;}#sk-container-id-1 div.sk-parallel-item:last-child::after {align-self: flex-start;width: 50%;}#sk-container-id-1 div.sk-parallel-item:only-child::after {width: 0;}#sk-container-id-1 div.sk-dashed-wrapped {border: 1px dashed gray;margin: 0 0.4em 0.5em 0.4em;box-sizing: border-box;padding-bottom: 0.4em;background-color: white;}#sk-container-id-1 div.sk-label label {font-family: monospace;font-weight: bold;display: inline-block;line-height: 1.2em;}#sk-container-id-1 div.sk-label-container {text-align: center;}#sk-container-id-1 div.sk-container {/* jupyter's `normalize.less` sets `[hidden] { display: none; }` but bootstrap.min.css set `[hidden] { display: none !important; }` so we also need the `!important` here to be able to override the default hidden behavior on the sphinx rendered scikit-learn.org. See: https://github.com/scikit-learn/scikit-learn/issues/21755 */display: inline-block !important;position: relative;}#sk-container-id-1 div.sk-text-repr-fallback {display: none;}</style><div id=\"sk-container-id-1\" class=\"sk-top-container\"><div class=\"sk-text-repr-fallback\"><pre>LinearRegression()</pre><b>In a Jupyter environment, please rerun this cell to show the HTML representation or trust the notebook. <br />On GitHub, the HTML representation is unable to render, please try loading this page with nbviewer.org.</b></div><div class=\"sk-container\" hidden><div class=\"sk-item\"><div class=\"sk-estimator sk-toggleable\"><input class=\"sk-toggleable__control sk-hidden--visually\" id=\"sk-estimator-id-1\" type=\"checkbox\" checked><label for=\"sk-estimator-id-1\" class=\"sk-toggleable__label sk-toggleable__label-arrow\">LinearRegression</label><div class=\"sk-toggleable__content\"><pre>LinearRegression()</pre></div></div></div></div></div>"
      ],
      "text/plain": [
       "LinearRegression()"
      ]
     },
     "execution_count": 30,
     "metadata": {},
     "output_type": "execute_result"
    }
   ],
   "source": [
    "# training the model\n",
    "lreg.fit(x_train, y_train)"
   ]
  },
  {
   "cell_type": "code",
   "execution_count": 31,
   "metadata": {},
   "outputs": [
    {
     "data": {
      "text/plain": [
       "3095.259185666213"
      ]
     },
     "execution_count": 31,
     "metadata": {},
     "output_type": "execute_result"
    }
   ],
   "source": [
    "# rmse on training set\n",
    "pred_train = lreg.predict(x_train)\n",
    "rmse_train = np.sqrt(mean_squared_error(y_train, pred_train))\n",
    "rmse_train"
   ]
  },
  {
   "cell_type": "code",
   "execution_count": 32,
   "metadata": {},
   "outputs": [
    {
     "data": {
      "text/plain": [
       "3145.819342129174"
      ]
     },
     "execution_count": 32,
     "metadata": {},
     "output_type": "execute_result"
    }
   ],
   "source": [
    "# rmse on validation set\n",
    "pred_val = lreg.predict(x_valid)\n",
    "rmse = np.sqrt(mean_squared_error(y_valid, pred_val))\n",
    "rmse"
   ]
  }
 ],
 "metadata": {
  "kernelspec": {
   "display_name": "Python 3 (ipykernel)",
   "language": "python",
   "name": "python3"
  },
  "language_info": {
   "codemirror_mode": {
    "name": "ipython",
    "version": 3
   },
   "file_extension": ".py",
   "mimetype": "text/x-python",
   "name": "python",
   "nbconvert_exporter": "python",
   "pygments_lexer": "ipython3",
   "version": "3.10.9"
  }
 },
 "nbformat": 4,
 "nbformat_minor": 2
}
